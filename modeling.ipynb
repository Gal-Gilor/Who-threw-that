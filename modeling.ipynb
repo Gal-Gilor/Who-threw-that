{
 "cells": [
  {
   "cell_type": "code",
   "execution_count": 93,
   "metadata": {},
   "outputs": [],
   "source": [
    "import joblib as jb\n",
    "import numpy as np\n",
    "import pandas as pd\n",
    "import seaborn as sns\n",
    "import matplotlib.pyplot as plt\n",
    "\n",
    "from typing import List, Union, Optional\n",
    "from scipy.stats import randint, uniform\n",
    "from sklearn.feature_selection import SelectFromModel\n",
    "from sklearn.model_selection import train_test_split, RandomizedSearchCV\n",
    "from sklearn.linear_model import LinearRegression, Ridge, Lasso\n",
    "from sklearn.metrics import mean_squared_error\n",
    "from sklearn.ensemble import AdaBoostRegressor\n",
    "from sklearn.base import BaseEstimator\n",
    "\n",
    "# graph styling\n",
    "%matplotlib inline \n",
    "plt.style.use('seaborn-dark')\n",
    "plt.rcParams['xtick.labelsize'] = 10\n",
    "plt.rcParams['ytick.labelsize'] = 10\n",
    "plt.rcParams['axes.labelsize'] = 14\n",
    "plt.rcParams['axes.titlesize'] = 16"
   ]
  },
  {
   "cell_type": "code",
   "execution_count": 2,
   "metadata": {},
   "outputs": [],
   "source": [
    "def RMSE(actual:Union[List, int, float], predictions: Union[List, int, float]) -> float:\n",
    "    '''\n",
    "    Calculates the root mean squared errors for a set of predictions\n",
    "    input:\n",
    "        actual: the actual perdiction or score\n",
    "        preidctions: the model predicts\n",
    "    '''\n",
    "    MSE = mean_squared_error(actual, predictions)\n",
    "    return round(np.sqrt(MSE), 2)"
   ]
  },
  {
   "cell_type": "code",
   "execution_count": 3,
   "metadata": {},
   "outputs": [],
   "source": [
    "df = pd.read_csv('magnitudes.csv', )\n",
    "actual = df['speed']\n",
    "X = df.drop('speed', axis=1)"
   ]
  },
  {
   "cell_type": "code",
   "execution_count": 4,
   "metadata": {},
   "outputs": [],
   "source": [
    "x_train, x_test, y_train, y_test = train_test_split(X, actual, test_size=0.2, random_state=2)"
   ]
  },
  {
   "cell_type": "code",
   "execution_count": 22,
   "metadata": {},
   "outputs": [
    {
     "data": {
      "text/plain": [
       "0.5699419131459307"
      ]
     },
     "execution_count": 22,
     "metadata": {},
     "output_type": "execute_result"
    }
   ],
   "source": [
    "regr = AdaBoostRegressor()\n",
    "regr.fit(x_train, y_train)\n",
    "ada_preds = regr.predict(x_test)\n",
    "regr.score(x_test, y_test)"
   ]
  },
  {
   "cell_type": "code",
   "execution_count": 23,
   "metadata": {},
   "outputs": [
    {
     "name": "stdout",
     "output_type": "stream",
     "text": [
      "Fitting 5 folds for each of 1000 candidates, totalling 5000 fits\n"
     ]
    },
    {
     "name": "stderr",
     "output_type": "stream",
     "text": [
      "[Parallel(n_jobs=-1)]: Using backend LokyBackend with 8 concurrent workers.\n",
      "[Parallel(n_jobs=-1)]: Done  25 tasks      | elapsed:   13.1s\n",
      "[Parallel(n_jobs=-1)]: Done 146 tasks      | elapsed:  1.7min\n",
      "[Parallel(n_jobs=-1)]: Done 349 tasks      | elapsed:  3.9min\n",
      "[Parallel(n_jobs=-1)]: Done 632 tasks      | elapsed:  7.0min\n",
      "[Parallel(n_jobs=-1)]: Done 997 tasks      | elapsed: 11.6min\n",
      "[Parallel(n_jobs=-1)]: Done 1442 tasks      | elapsed: 16.6min\n",
      "[Parallel(n_jobs=-1)]: Done 1969 tasks      | elapsed: 23.4min\n",
      "[Parallel(n_jobs=-1)]: Done 2576 tasks      | elapsed: 30.8min\n",
      "[Parallel(n_jobs=-1)]: Done 3265 tasks      | elapsed: 39.0min\n",
      "[Parallel(n_jobs=-1)]: Done 4034 tasks      | elapsed: 48.6min\n",
      "[Parallel(n_jobs=-1)]: Done 4885 tasks      | elapsed: 59.0min\n",
      "[Parallel(n_jobs=-1)]: Done 5000 out of 5000 | elapsed: 60.3min finished\n"
     ]
    }
   ],
   "source": [
    "ada_grid = {\n",
    "    'learning_rate': uniform(0.05, 0.5), \n",
    "    'n_estimators': randint(100, 1000),\n",
    "    'loss': ['linear', 'square', 'exponential']\n",
    "}\n",
    "\n",
    "regr = RandomizedSearchCV(AdaBoostRegressor(), ada_grid, n_iter=1000, \n",
    "                                   cv=5, verbose=2, n_jobs=-1, \n",
    "                                   scoring='neg_root_mean_squared_error')\n",
    "\n",
    "regr.fit(x_train, y_train)\n",
    "ada_preds = regr.predict(x_test)"
   ]
  },
  {
   "cell_type": "code",
   "execution_count": 6,
   "metadata": {},
   "outputs": [],
   "source": []
  },
  {
   "cell_type": "code",
   "execution_count": 7,
   "metadata": {
    "scrolled": true
   },
   "outputs": [
    {
     "name": "stdout",
     "output_type": "stream",
     "text": [
      "Root Mean squared error: 4.38\n"
     ]
    }
   ],
   "source": [
    "# The coefficients\n",
    "#print('Coefficients: \\n', regression.coef_)\n",
    "# The mean squared error\n",
    "print(f'Root Mean squared error: {round(np.sqrt(mean_squared_error(y_test, ada_preds)), 2)}')"
   ]
  },
  {
   "cell_type": "code",
   "execution_count": 25,
   "metadata": {},
   "outputs": [
    {
     "data": {
      "text/plain": [
       "['ada_regressor_grid.pkl']"
      ]
     },
     "execution_count": 25,
     "metadata": {},
     "output_type": "execute_result"
    }
   ],
   "source": [
    "# save model\n",
    "jb.dump(regr, 'ada_regressor_grid.pkl')"
   ]
  },
  {
   "cell_type": "code",
   "execution_count": 87,
   "metadata": {},
   "outputs": [
    {
     "name": "stdout",
     "output_type": "stream",
     "text": [
      "Fitting 5 folds for each of 2000 candidates, totalling 10000 fits\n"
     ]
    },
    {
     "name": "stderr",
     "output_type": "stream",
     "text": [
      "[Parallel(n_jobs=-1)]: Using backend LokyBackend with 8 concurrent workers.\n",
      "[Parallel(n_jobs=-1)]: Done  16 tasks      | elapsed:   12.8s\n",
      "[Parallel(n_jobs=-1)]: Done 112 tasks      | elapsed:   58.1s\n",
      "[Parallel(n_jobs=-1)]: Done 272 tasks      | elapsed:  2.1min\n",
      "[Parallel(n_jobs=-1)]: Done 496 tasks      | elapsed:  3.5min\n",
      "[Parallel(n_jobs=-1)]: Done 784 tasks      | elapsed:  5.5min\n",
      "[Parallel(n_jobs=-1)]: Done 1136 tasks      | elapsed:  8.0min\n",
      "[Parallel(n_jobs=-1)]: Done 1552 tasks      | elapsed: 11.0min\n",
      "[Parallel(n_jobs=-1)]: Done 2032 tasks      | elapsed: 14.4min\n",
      "[Parallel(n_jobs=-1)]: Done 2576 tasks      | elapsed: 18.1min\n",
      "[Parallel(n_jobs=-1)]: Done 3184 tasks      | elapsed: 22.2min\n",
      "[Parallel(n_jobs=-1)]: Done 3856 tasks      | elapsed: 26.7min\n",
      "[Parallel(n_jobs=-1)]: Done 4592 tasks      | elapsed: 31.6min\n",
      "[Parallel(n_jobs=-1)]: Done 5392 tasks      | elapsed: 37.1min\n",
      "[Parallel(n_jobs=-1)]: Done 6256 tasks      | elapsed: 43.0min\n",
      "[Parallel(n_jobs=-1)]: Done 7184 tasks      | elapsed: 49.4min\n",
      "[Parallel(n_jobs=-1)]: Done 8176 tasks      | elapsed: 56.3min\n",
      "[Parallel(n_jobs=-1)]: Done 9232 tasks      | elapsed: 63.4min\n",
      "[Parallel(n_jobs=-1)]: Done 10000 out of 10000 | elapsed: 68.6min finished\n"
     ]
    },
    {
     "data": {
      "text/plain": [
       "RandomizedSearchCV(cv=5, error_score=nan,\n",
       "                   estimator=XGBRegressor(base_score=None, booster=None,\n",
       "                                          colsample_bylevel=None,\n",
       "                                          colsample_bynode=None,\n",
       "                                          colsample_bytree=None, gamma=None,\n",
       "                                          gpu_id=None, importance_type='gain',\n",
       "                                          interaction_constraints=None,\n",
       "                                          learning_rate=None,\n",
       "                                          max_delta_step=None, max_depth=None,\n",
       "                                          min_child_weight=None, missing=nan,\n",
       "                                          monotone_constraints=None,\n",
       "                                          n_...\n",
       "                                        'min_child_weight': <scipy.stats._distn_infrastructure.rv_frozen object at 0x000001E39157A388>,\n",
       "                                        'n_estimators': <scipy.stats._distn_infrastructure.rv_frozen object at 0x000001E3915C13C8>,\n",
       "                                        'subsample': <scipy.stats._distn_infrastructure.rv_frozen object at 0x000001E3915C1B88>},\n",
       "                   pre_dispatch='2*n_jobs', random_state=None, refit=True,\n",
       "                   return_train_score=False,\n",
       "                   scoring='neg_root_mean_squared_error', verbose=3)"
      ]
     },
     "execution_count": 87,
     "metadata": {},
     "output_type": "execute_result"
    }
   ],
   "source": [
    "import xgboost as xgb\n",
    "\n",
    "xgb_grid = {\n",
    "    'learning_rate': uniform(0.1, 0.5), \n",
    "    'max_depth': randint(3, 6), \n",
    "    'min_child_weight': randint(4, 6), \n",
    "    'subsample': uniform(0.2, 0.6),\n",
    "    'n_estimators': randint(150, 1000),\n",
    "}\n",
    "\n",
    "xgb_regressor = RandomizedSearchCV(xgb.XGBRegressor(), xgb_grid, n_iter=2000, \n",
    "                                   cv=5, verbose=3, n_jobs=-1, \n",
    "                                   scoring='neg_root_mean_squared_error')\n",
    "\n",
    "xgb_regressor.fit(x_train, y_train)"
   ]
  },
  {
   "cell_type": "code",
   "execution_count": 88,
   "metadata": {},
   "outputs": [
    {
     "name": "stdout",
     "output_type": "stream",
     "text": [
      "Root Mean Squared Error: 3.73\n"
     ]
    }
   ],
   "source": [
    "xgb_preds = xgb_regressor.predict(x_test)\n",
    "# The mean squared error\n",
    "print(f'Root Mean Squared Error: {round(np.sqrt(mean_squared_error(y_test, xgb_preds)), 2)}')"
   ]
  },
  {
   "cell_type": "code",
   "execution_count": 94,
   "metadata": {},
   "outputs": [
    {
     "data": {
      "text/plain": [
       "XGBRegressor(base_score=0.5, booster='gbtree', colsample_bylevel=1,\n",
       "             colsample_bynode=1, colsample_bytree=1, gamma=0, gpu_id=-1,\n",
       "             importance_type='gain', interaction_constraints='',\n",
       "             learning_rate=0.10806048824645356, max_delta_step=0, max_depth=4,\n",
       "             min_child_weight=4, missing=nan, monotone_constraints='()',\n",
       "             n_estimators=626, n_jobs=8, num_parallel_tree=1,\n",
       "             objective='reg:squarederror', random_state=0, reg_alpha=0,\n",
       "             reg_lambda=1, scale_pos_weight=1, subsample=0.3499542372030241,\n",
       "             tree_method='exact', validate_parameters=1, verbosity=None)"
      ]
     },
     "execution_count": 94,
     "metadata": {},
     "output_type": "execute_result"
    }
   ],
   "source": [
    "xgb_regressor.best_estimator_"
   ]
  },
  {
   "cell_type": "code",
   "execution_count": 89,
   "metadata": {},
   "outputs": [
    {
     "data": {
      "text/plain": [
       "['xgb_regressor_2.pkl']"
      ]
     },
     "execution_count": 89,
     "metadata": {},
     "output_type": "execute_result"
    }
   ],
   "source": [
    "# save model\n",
    "jb.dump(xgb_regressor, 'xgb_regressor_2.pkl')"
   ]
  },
  {
   "cell_type": "code",
   "execution_count": 10,
   "metadata": {},
   "outputs": [
    {
     "data": {
      "image/png": "[encoded data removed]",
      "text/plain": [
       "<Figure size 432x288 with 1 Axes>"
      ]
     },
     "metadata": {},
     "output_type": "display_data"
    }
   ],
   "source": [
    "plt.scatter(range(len(xgb_preds)), xgb_preds)\n",
    "plt.scatter(range(len(y_test)), y_test, color='red')\n",
    "plt.show()"
   ]
  },
  {
   "cell_type": "code",
   "execution_count": 90,
   "metadata": {},
   "outputs": [
    {
     "data": {
      "image/png": "[encoded data removed]",
      "text/plain": [
       "<Figure size 1008x720 with 1 Axes>"
      ]
     },
     "metadata": {},
     "output_type": "display_data"
    }
   ],
   "source": [
    "def plot_feature_importance(model: BaseEstimator, x_train: List, n: Optional[int] = 12) -> None:\n",
    "    \"\"\" This function recievies a model and plots the 'n' most important features\"\"\"\n",
    "    # extract and sort the feature importance\n",
    "    features = model.feature_importances_\n",
    "    feature_names = x_train.columns.values\n",
    "\n",
    "    # combine the features importance and column names into a matrix and sort them\n",
    "    feature_matrix = np.array([features, feature_names])\n",
    "    feature_matrix = feature_matrix.transpose()\n",
    "    feature_matrix = feature_matrix[feature_matrix[:, 0].argsort()]\n",
    "\n",
    "    # divide the column names and feature importance\n",
    "    sorted_feat = feature_matrix[:, 0]\n",
    "    sorted_columns = feature_matrix[:, 1]\n",
    "\n",
    "    # plot the features\n",
    "    plt.figure(figsize=(14, 10))\n",
    "    if n > len(sorted_feat):\n",
    "        plt.barh(sorted_columns, sorted_feat, align='center')\n",
    "    else:\n",
    "        plt.barh(sorted_columns[-n:], sorted_feat[-n:], align='center')\n",
    "\n",
    "    # add label and titles\n",
    "    plt.yticks(sorted_columns[-n:], sorted_columns[-n:])\n",
    "    plt.title('Feature Importances', fontsize=18)\n",
    "    plt.xlabel('Feature Importance', fontsize=16)\n",
    "    plt.ylabel('Features', fontsize=16)\n",
    "    return\n",
    "\n",
    "plot_feature_importance(xgb_regressor.best_estimator_, x_train, n=25)"
   ]
  },
  {
   "cell_type": "code",
   "execution_count": 39,
   "metadata": {},
   "outputs": [
    {
     "data": {
      "text/plain": [
       "PCA(copy=True, iterated_power='auto', n_components=10, random_state=None,\n",
       "    svd_solver='auto', tol=0.0, whiten=False)"
      ]
     },
     "execution_count": 39,
     "metadata": {},
     "output_type": "execute_result"
    }
   ],
   "source": [
    "from sklearn.decomposition import PCA\n",
    "pca = PCA(n_components=10)\n",
    "pca.fit(X)"
   ]
  },
  {
   "cell_type": "code",
   "execution_count": 51,
   "metadata": {},
   "outputs": [
    {
     "name": "stdout",
     "output_type": "stream",
     "text": [
      "Root Mean Squared Error: 2.89\n"
     ]
    }
   ],
   "source": [
    "from sklearn.svm import SVC\n",
    "pca_train = pca.transform(x_train)\n",
    "pca_test = pca.transform(x_test)\n",
    "svm = SVC(C=5, gamma='auto')\n",
    "svm.fit(pca_train, y_train)\n",
    "\n",
    "svm_preds = svm.predict(pca_test)\n",
    "# The mean squared error\n",
    "print(f'Root Mean Squared Error: {round(np.sqrt(mean_squared_error(y_test, svm_preds)), 2)}')"
   ]
  },
  {
   "cell_type": "code",
   "execution_count": 56,
   "metadata": {},
   "outputs": [
    {
     "data": {
      "text/plain": [
       "['xvm_regressor.pkl']"
      ]
     },
     "execution_count": 56,
     "metadata": {},
     "output_type": "execute_result"
    }
   ],
   "source": [
    "jb.dump(svm, 'svm_regressor.pkl')"
   ]
  },
  {
   "cell_type": "code",
   "execution_count": 84,
   "metadata": {},
   "outputs": [
    {
     "name": "stdout",
     "output_type": "stream",
     "text": [
      "Fitting 5 folds for each of 2000 candidates, totalling 10000 fits\n"
     ]
    },
    {
     "name": "stderr",
     "output_type": "stream",
     "text": [
      "The least populated class in y has only 1 members, which is less than n_splits=5.\n",
      "[Parallel(n_jobs=-1)]: Using backend LokyBackend with 8 concurrent workers.\n",
      "[Parallel(n_jobs=-1)]: Done  16 tasks      | elapsed:    0.0s\n",
      "[Parallel(n_jobs=-1)]: Done 1520 tasks      | elapsed:    3.2s\n",
      "[Parallel(n_jobs=-1)]: Done 6640 tasks      | elapsed:   11.5s\n"
     ]
    },
    {
     "name": "stdout",
     "output_type": "stream",
     "text": [
      "Root Mean Squared Error: 3.38\n"
     ]
    },
    {
     "name": "stderr",
     "output_type": "stream",
     "text": [
      "[Parallel(n_jobs=-1)]: Done 10000 out of 10000 | elapsed:   16.4s finished\n"
     ]
    }
   ],
   "source": [
    "pca = PCA(n_components=10)\n",
    "pca.fit(X)\n",
    "\n",
    "pca_train = pca.transform(x_train)\n",
    "pca_test = pca.transform(x_test)\n",
    "\n",
    "svm_grid = {\n",
    "    'C': randint(1,6),\n",
    "    'kernel': ['linear', 'poly', 'rbf'],\n",
    "    'degree': randint(1, 7),\n",
    "    'gamma': ['scale', 'auto']\n",
    "}\n",
    "\n",
    "svm_regressor = RandomizedSearchCV(SVC(), svm_grid, n_iter=2000, \n",
    "                                   cv=5, verbose=3, n_jobs=-1, \n",
    "                                   scoring='neg_root_mean_squared_error')\n",
    "\n",
    "svm_regressor.fit(pca_train, y_train)\n",
    "svm_preds = svm_regressor.predict(pca_test)\n",
    "# The mean squared error\n",
    "print(f'Root Mean Squared Error: {round(np.sqrt(mean_squared_error(y_test, svm_preds)), 2)}')"
   ]
  },
  {
   "cell_type": "code",
   "execution_count": 92,
   "metadata": {},
   "outputs": [
    {
     "data": {
      "image/png": "[encoded data removed]",
      "text/plain": [
       "<Figure size 432x288 with 1 Axes>"
      ]
     },
     "metadata": {},
     "output_type": "display_data"
    }
   ],
   "source": [
    "plt.scatter(range(len(xgb_preds)), svm_preds)\n",
    "plt.scatter(range(len(y_test)), y_test, color='red')\n",
    "plt.show()"
   ]
  },
  {
   "cell_type": "code",
   "execution_count": 81,
   "metadata": {},
   "outputs": [
    {
     "data": {
      "text/plain": [
       "{'C': 5,\n",
       " 'break_ties': False,\n",
       " 'cache_size': 200,\n",
       " 'class_weight': None,\n",
       " 'coef0': 0.0,\n",
       " 'decision_function_shape': 'ovr',\n",
       " 'degree': 1,\n",
       " 'gamma': 'scale',\n",
       " 'kernel': 'rbf',\n",
       " 'max_iter': -1,\n",
       " 'probability': False,\n",
       " 'random_state': None,\n",
       " 'shrinking': True,\n",
       " 'tol': 0.001,\n",
       " 'verbose': False}"
      ]
     },
     "execution_count": 81,
     "metadata": {},
     "output_type": "execute_result"
    }
   ],
   "source": [
    "svm_regressor.best_estimator_.get_params()"
   ]
  },
  {
   "cell_type": "code",
   "execution_count": 85,
   "metadata": {},
   "outputs": [
    {
     "name": "stdout",
     "output_type": "stream",
     "text": [
      "Root Mean Squared Error: 2.89\n"
     ]
    }
   ],
   "source": [
    "svm = jb.load('svm_regressor.pkl')\n",
    "svm_preds2 = svm.predict(pca_test)\n",
    "# The mean squared error\n",
    "print(f'Root Mean Squared Error: {round(np.sqrt(mean_squared_error(y_test, svm_preds2)), 2)}')"
   ]
  },
  {
   "cell_type": "code",
   "execution_count": null,
   "metadata": {},
   "outputs": [],
   "source": []
  }
 ],
 "metadata": {
  "kernelspec": {
   "display_name": "Python 3",
   "language": "python",
   "name": "python3"
  },
  "language_info": {
   "codemirror_mode": {
    "name": "ipython",
    "version": 3
   },
   "file_extension": ".py",
   "mimetype": "text/x-python",
   "name": "python",
   "nbconvert_exporter": "python",
   "pygments_lexer": "ipython3",
   "version": "3.7.4"
  }
 },
 "nbformat": 4,
 "nbformat_minor": 4
}
